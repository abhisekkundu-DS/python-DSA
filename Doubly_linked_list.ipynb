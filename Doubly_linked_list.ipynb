{
 "cells": [
  {
   "cell_type": "code",
   "execution_count": 28,
   "id": "612f82b8-af56-48da-a55f-a41c2b1cbcbf",
   "metadata": {},
   "outputs": [],
   "source": [
    "\"\"\" Dobly Linked List \"\"\"\n",
    "class Node:\n",
    "    def __init__(self,prev = None,item = None,next = None):\n",
    "        self.prev = prev\n",
    "        self.item = item\n",
    "        self.next = next\n",
    "class DLL:\n",
    "    def __init__(self,start = None):\n",
    "        self.start = start\n",
    "    def is_empty(self):\n",
    "        return self.start == None\n",
    "    def insert_at_start(self,data):\n",
    "        n = Node(None,data,self.start)\n",
    "        if not self.is_empty():\n",
    "            self.start.prev = n\n",
    "        self.start = n\n",
    "    def insert_at_last(self,data):\n",
    "        temp = self.start\n",
    "        if self.start != None:\n",
    "            while temp.next != None:\n",
    "                temp = temp.next\n",
    "        n = Node(temp,data,Node)\n",
    "        if temp == None:\n",
    "            self.start = n\n",
    "        else:\n",
    "            temp.next = n\n",
    "    def search(self,data):\n",
    "        temp = self.start\n",
    "        while temp is not None:\n",
    "            if temp.item == data:\n",
    "                return temp\n",
    "            temp = temp.next\n",
    "        return None\n",
    "    def insert_after(self,temp,data):\n",
    "        if temp is not None:\n",
    "            n = Node(temp,data,temp.next)\n",
    "            if temp.next is not None:\n",
    "                temp.next.prev = n\n",
    "            temp.next = n\n",
    "    def delete_first(self):\n",
    "        if self.start is not None:\n",
    "            self.start = self.start.next\n",
    "            if self.start is not None:\n",
    "                self.start.prev = None\n",
    "    def delete_last(self):\n",
    "        if self.start is None:\n",
    "            pass\n",
    "        elif self.start.next is None:\n",
    "            self.start = None\n",
    "        else:\n",
    "            temp = self.start\n",
    "            while temp.next is not None:\n",
    "                temp = temp.next\n",
    "            temp.prev.next = None\n",
    "    def delete_item(self,data):\n",
    "        if self.start is None:\n",
    "            pass\n",
    "        else:\n",
    "            temp = self.start\n",
    "            while temp is not None:\n",
    "                if temp.item == data:\n",
    "                    if temp.next is not None:\n",
    "                        temp.next.prev = temp.prev\n",
    "                        if temp.prev is not None:\n",
    "                            temp.prev.next = temp.next\n",
    "                        else:\n",
    "                            self.start = temp.next\n",
    "                        break\n",
    "                    temp = temp.next\n",
    "    def __iter__(self):\n",
    "        return DLLIterator(self.start)\n",
    "class DLLIterator:\n",
    "    def __init__ (self,start):\n",
    "        self.current = start\n",
    "    def __iter__(self):\n",
    "        return self\n",
    "    def __next__(self):\n",
    "        if not self.current:\n",
    "            raise StopIteration    \n",
    "        data = self.current.item\n",
    "        self.current = self.current.next\n",
    "        return data\n",
    "        \n",
    "                \n",
    "        "
   ]
  },
  {
   "cell_type": "code",
   "execution_count": 30,
   "id": "90f41b76-6857-4eeb-be9a-68f88c1689e8",
   "metadata": {},
   "outputs": [
    {
     "name": "stdout",
     "output_type": "stream",
     "text": [
      "10 15 20 "
     ]
    },
    {
     "ename": "AttributeError",
     "evalue": "type object 'Node' has no attribute 'item'",
     "output_type": "error",
     "traceback": [
      "\u001b[1;31m---------------------------------------------------------------------------\u001b[0m",
      "\u001b[1;31mAttributeError\u001b[0m                            Traceback (most recent call last)",
      "Cell \u001b[1;32mIn[30], line 5\u001b[0m\n\u001b[0;32m      3\u001b[0m mylist\u001b[38;5;241m.\u001b[39minsert_at_last(\u001b[38;5;241m20\u001b[39m)\n\u001b[0;32m      4\u001b[0m mylist\u001b[38;5;241m.\u001b[39minsert_after(mylist\u001b[38;5;241m.\u001b[39msearch(\u001b[38;5;241m10\u001b[39m),\u001b[38;5;241m15\u001b[39m)\n\u001b[1;32m----> 5\u001b[0m \u001b[38;5;28;01mfor\u001b[39;00m x \u001b[38;5;129;01min\u001b[39;00m mylist:\n\u001b[0;32m      6\u001b[0m     \u001b[38;5;28mprint\u001b[39m(x,end\u001b[38;5;241m=\u001b[39m\u001b[38;5;124m'\u001b[39m\u001b[38;5;124m \u001b[39m\u001b[38;5;124m'\u001b[39m)\n\u001b[0;32m      7\u001b[0m \u001b[38;5;28mprint\u001b[39m()\n",
      "Cell \u001b[1;32mIn[28], line 80\u001b[0m, in \u001b[0;36mDLLIterator.__next__\u001b[1;34m(self)\u001b[0m\n\u001b[0;32m     78\u001b[0m \u001b[38;5;28;01mif\u001b[39;00m \u001b[38;5;129;01mnot\u001b[39;00m \u001b[38;5;28mself\u001b[39m\u001b[38;5;241m.\u001b[39mcurrent:\n\u001b[0;32m     79\u001b[0m     \u001b[38;5;28;01mraise\u001b[39;00m \u001b[38;5;167;01mStopIteration\u001b[39;00m    \n\u001b[1;32m---> 80\u001b[0m data \u001b[38;5;241m=\u001b[39m \u001b[38;5;28mself\u001b[39m\u001b[38;5;241m.\u001b[39mcurrent\u001b[38;5;241m.\u001b[39mitem\n\u001b[0;32m     81\u001b[0m \u001b[38;5;28mself\u001b[39m\u001b[38;5;241m.\u001b[39mcurrent \u001b[38;5;241m=\u001b[39m \u001b[38;5;28mself\u001b[39m\u001b[38;5;241m.\u001b[39mcurrent\u001b[38;5;241m.\u001b[39mnext\n\u001b[0;32m     82\u001b[0m \u001b[38;5;28;01mreturn\u001b[39;00m data\n",
      "\u001b[1;31mAttributeError\u001b[0m: type object 'Node' has no attribute 'item'"
     ]
    }
   ],
   "source": [
    "mylist=DLL()\n",
    "mylist.insert_at_start(10)\n",
    "mylist.insert_at_last(20)\n",
    "mylist.insert_after(mylist.search(10),15)\n",
    "for x in mylist:\n",
    "    print(x,end=' ')\n",
    "print()"
   ]
  },
  {
   "cell_type": "code",
   "execution_count": null,
   "id": "12c056af-129b-4821-b9bb-7d962dbac66d",
   "metadata": {},
   "outputs": [],
   "source": []
  },
  {
   "cell_type": "code",
   "execution_count": null,
   "id": "1f20715c-2d2e-48ba-879b-05e16c0125da",
   "metadata": {},
   "outputs": [],
   "source": []
  },
  {
   "cell_type": "code",
   "execution_count": null,
   "id": "5ed7e012-446d-4131-b58f-b3527a750640",
   "metadata": {},
   "outputs": [],
   "source": []
  }
 ],
 "metadata": {
  "kernelspec": {
   "display_name": "Python 3 (ipykernel)",
   "language": "python",
   "name": "python3"
  },
  "language_info": {
   "codemirror_mode": {
    "name": "ipython",
    "version": 3
   },
   "file_extension": ".py",
   "mimetype": "text/x-python",
   "name": "python",
   "nbconvert_exporter": "python",
   "pygments_lexer": "ipython3",
   "version": "3.12.4"
  }
 },
 "nbformat": 4,
 "nbformat_minor": 5
}
