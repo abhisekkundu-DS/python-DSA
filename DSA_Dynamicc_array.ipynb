{
  "nbformat": 4,
  "nbformat_minor": 0,
  "metadata": {
    "colab": {
      "provenance": []
    },
    "kernelspec": {
      "name": "python3",
      "display_name": "Python 3"
    },
    "language_info": {
      "name": "python"
    }
  },
  "cells": [
    {
      "cell_type": "code",
      "execution_count": null,
      "metadata": {
        "id": "I81j7lxXyyLw"
      },
      "outputs": [],
      "source": [
        "import ctypes"
      ]
    },
    {
      "cell_type": "code",
      "source": [
        "class MeraList:\n",
        "\n",
        "  def __init__(self):\n",
        "\n",
        "    self.size =1\n",
        "    self.n = 0\n",
        "    ##create a c type array with size -> self.size\n",
        "    self.A = self.__make_array(self.size)\n",
        "\n",
        "  def append(self,item):\n",
        "      # check if vacant\n",
        "      if self.n == self.size:\n",
        "        #array is null -> then create a a new array to store this data\n",
        "        self.__resize(self.size*2)\n",
        "\n",
        "      #the value add in #########################?????????\n",
        "      self.A[self.n]=item\n",
        "      self.n = self.n+1\n",
        "\n",
        "  def __len__(self):\n",
        "      return self.n\n",
        "\n",
        "  def __resize(self,new_capacity):\n",
        "    #create a new capcity with new array\n",
        "    B = self.__make_array(new_capacity)\n",
        "    self.size = new_capacity\n",
        "    #copy the content of old array to new array\n",
        "    for i in range(self.n):\n",
        "      B[i]=self.A[i]\n",
        "    #reassing A\n",
        "    self.A = B\n",
        "\n",
        "  def __str__(self):\n",
        "    result = ''\n",
        "    for i in range(self.n):\n",
        "      result = result + str(self.A[i]) + ','\n",
        "\n",
        "    return '[' + result[:-1] + ']'\n",
        "\n",
        "  def pop(self):\n",
        "    if self.n == 0:\n",
        "      return \"Empty List\"\n",
        "    print(self.A[self.n-1])\n",
        "    self.n = self.n - 1\n",
        "\n",
        "  def clear(self):\n",
        "    self.n = 0\n",
        "    self.size = 1\n",
        "\n",
        "  def __make_array(self,capacity):\n",
        "      return (capacity*ctypes.py_object)()\n",
        "\n",
        "  def find(self, item):\n",
        "    for i in range(self.n):\n",
        "      if self.A[i] == item:\n",
        "        return i\n",
        "    return \"ValueError _not in list\"\n",
        "\n",
        "\n",
        "  def insert(self,pos,item):\n",
        "\n",
        "    if self.n == self.size:\n",
        "      self.__resize(self.size*2)\n",
        "\n",
        "    for i in range(self.n, pos,-1):\n",
        "      self.A[i] = self.A[i-1]\n",
        "\n",
        "      self.A[pos] = item\n",
        "      self.n = self.n+1\n",
        "\n",
        "  def __getitem__(self,index):\n",
        "\n",
        "    if 0<= index < self.n:\n",
        "      return self.A[index]\n",
        "    else:\n",
        "      return \"IndexError\"\n",
        "\n",
        "\n",
        "  def __delitem__(self,pos):\n",
        "    if 0<=pos < self.n:\n",
        "      for i in range(pos,self.n-1):\n",
        "        self.A[i] = self.A[i+1]\n",
        "\n",
        "      self.n = self.n-1\n",
        "\n",
        "  # def __str__(self):\n",
        "  #   result = \"\"\n",
        "  #   for i in range(self.n):\n",
        "  #     result = result + str(self.A[i]) + ','\n",
        "\n",
        "  #   return '[' + result[:-1] + ']'\n",
        "\n",
        "\n",
        "  # def __str__(self):\n",
        "  #   result = ''\n",
        "  #   for i in range(self.n):\n",
        "  #     result = result + str(self.A[i]) + ','\n",
        "\n",
        "  #   return '[' + result[:-1] + ']'\n"
      ],
      "metadata": {
        "id": "RbE-v6R5zPeQ"
      },
      "execution_count": null,
      "outputs": []
    },
    {
      "cell_type": "code",
      "source": [
        "L = MeraList()"
      ],
      "metadata": {
        "id": "8-FQXffOz6Qg"
      },
      "execution_count": null,
      "outputs": []
    },
    {
      "cell_type": "code",
      "source": [
        "L.append(1)\n",
        "L.append(\"Hello\")\n",
        "L.append(\"good\")"
      ],
      "metadata": {
        "id": "S4Hd1giU1Jnc"
      },
      "execution_count": null,
      "outputs": []
    },
    {
      "cell_type": "code",
      "source": [
        "L.__len__()"
      ],
      "metadata": {
        "colab": {
          "base_uri": "https://localhost:8080/"
        },
        "id": "yyxidNQk6ZdM",
        "outputId": "e500664b-f523-478e-ec9c-9015f3590822"
      },
      "execution_count": null,
      "outputs": [
        {
          "output_type": "execute_result",
          "data": {
            "text/plain": [
              "3"
            ]
          },
          "metadata": {},
          "execution_count": 155
        }
      ]
    },
    {
      "cell_type": "code",
      "source": [
        "L.__str__"
      ],
      "metadata": {
        "colab": {
          "base_uri": "https://localhost:8080/",
          "height": 103
        },
        "id": "FDAXk1_yFM5X",
        "outputId": "682490ad-f059-488f-b9c3-205cdac05178"
      },
      "execution_count": null,
      "outputs": [
        {
          "output_type": "execute_result",
          "data": {
            "text/plain": [
              "<bound method MeraList.__str__ of <__main__.MeraList object at 0x7cac9bfeabc0>>"
            ],
            "text/html": [
              "<div style=\"max-width:800px; border: 1px solid var(--colab-border-color);\"><style>\n",
              "      pre.function-repr-contents {\n",
              "        overflow-x: auto;\n",
              "        padding: 8px 12px;\n",
              "        max-height: 500px;\n",
              "      }\n",
              "\n",
              "      pre.function-repr-contents.function-repr-contents-collapsed {\n",
              "        cursor: pointer;\n",
              "        max-height: 100px;\n",
              "      }\n",
              "    </style>\n",
              "    <pre style=\"white-space: initial; background:\n",
              "         var(--colab-secondary-surface-color); padding: 8px 12px;\n",
              "         border-bottom: 1px solid var(--colab-border-color);\"><b>MeraList.__str__</b><br/>def __str__()</pre><pre class=\"function-repr-contents function-repr-contents-collapsed\" style=\"\"><a class=\"filepath\" style=\"display:none\" href=\"#\">/content/&lt;ipython-input-152-41bdb00f66bf&gt;</a>Return str(self).</pre></div>"
            ]
          },
          "metadata": {},
          "execution_count": 157
        }
      ]
    },
    {
      "cell_type": "code",
      "source": [
        "L.pop()"
      ],
      "metadata": {
        "colab": {
          "base_uri": "https://localhost:8080/"
        },
        "id": "4L2vufYd7O1f",
        "outputId": "8aba92f3-162a-435f-8fa9-0fc6727a9557"
      },
      "execution_count": null,
      "outputs": [
        {
          "output_type": "stream",
          "name": "stdout",
          "text": [
            "good\n"
          ]
        }
      ]
    },
    {
      "cell_type": "code",
      "source": [
        "L.find(1)"
      ],
      "metadata": {
        "colab": {
          "base_uri": "https://localhost:8080/"
        },
        "id": "vU3yHRoh-l3G",
        "outputId": "4ec0b4df-0354-421f-c7fa-1903add8c8f6"
      },
      "execution_count": null,
      "outputs": [
        {
          "output_type": "execute_result",
          "data": {
            "text/plain": [
              "0"
            ]
          },
          "metadata": {},
          "execution_count": 122
        }
      ]
    },
    {
      "cell_type": "code",
      "source": [
        "L.insert(1,9)"
      ],
      "metadata": {
        "id": "QFRgjcEpApd2"
      },
      "execution_count": null,
      "outputs": []
    },
    {
      "cell_type": "code",
      "source": [
        "L.__getitem__(2)"
      ],
      "metadata": {
        "colab": {
          "base_uri": "https://localhost:8080/",
          "height": 36
        },
        "id": "wUtYq02ACHMj",
        "outputId": "77f90ae2-22f3-4c2e-ddb1-5466e6c742fb"
      },
      "execution_count": null,
      "outputs": [
        {
          "output_type": "execute_result",
          "data": {
            "text/plain": [
              "'Hello'"
            ],
            "application/vnd.google.colaboratory.intrinsic+json": {
              "type": "string"
            }
          },
          "metadata": {},
          "execution_count": 124
        }
      ]
    },
    {
      "cell_type": "code",
      "source": [
        "print(L)"
      ],
      "metadata": {
        "colab": {
          "base_uri": "https://localhost:8080/"
        },
        "id": "9Er9JWjuAx5k",
        "outputId": "f9a08e1a-d705-472b-e834-af682c35dd66"
      },
      "execution_count": null,
      "outputs": [
        {
          "output_type": "stream",
          "name": "stdout",
          "text": [
            "<__main__.MeraList object at 0x7cac8e06c1f0>\n"
          ]
        }
      ]
    },
    {
      "cell_type": "code",
      "source": [
        "L"
      ],
      "metadata": {
        "colab": {
          "base_uri": "https://localhost:8080/"
        },
        "id": "3HPShS5RA1cM",
        "outputId": "54a4c7f5-4aca-4e5f-a236-55cd5d403e98"
      },
      "execution_count": null,
      "outputs": [
        {
          "output_type": "execute_result",
          "data": {
            "text/plain": [
              "<__main__.MeraList at 0x7cac8e06c1f0>"
            ]
          },
          "metadata": {},
          "execution_count": 126
        }
      ]
    },
    {
      "cell_type": "code",
      "source": [
        "L.__delitem__(1)"
      ],
      "metadata": {
        "id": "BtZLML1gEV4I"
      },
      "execution_count": null,
      "outputs": []
    },
    {
      "cell_type": "code",
      "source": [
        "L.clear()"
      ],
      "metadata": {
        "id": "5gW8Q_h29_pY"
      },
      "execution_count": null,
      "outputs": []
    }
  ]
}