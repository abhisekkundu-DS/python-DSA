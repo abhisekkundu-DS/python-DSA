{
 "cells": [
  {
   "cell_type": "code",
   "execution_count": 2,
   "id": "c1b292eb-b1ae-44a0-8310-59bc3ed2a9f6",
   "metadata": {},
   "outputs": [],
   "source": [
    "class Node:\n",
    "    def __init__(self,value):\n",
    "        self.data = value\n",
    "        self.next = None"
   ]
  },
  {
   "cell_type": "code",
   "execution_count": 65,
   "id": "5e34051e-39f4-4ca7-8340-46f821042215",
   "metadata": {},
   "outputs": [],
   "source": [
    "class stack:\n",
    "    def __init__(self):\n",
    "        self.top = None\n",
    "        \n",
    "    def push(self,value):\n",
    "        new_node = Node(value)\n",
    "        new_node.next = self.top\n",
    "        self.top = new_node\n",
    "\n",
    "\n",
    "    def pop(self):\n",
    "        if self.top is None:\n",
    "            return \"stack is Empty\"\n",
    "        else:\n",
    "            data = self.top.data\n",
    "            self.top = self.top.next\n",
    "            return data\n",
    "\n",
    "\n",
    "    def is_empty(self):\n",
    "        return self.top == None\n",
    "\n",
    "\n",
    "    def peek(self):\n",
    "        if self.top is None:\n",
    "            return 'Stack Empty'\n",
    "        else:\n",
    "            return self.top.data\n",
    "\n",
    "\n",
    "    def traverse(self):\n",
    "        temp = self.top\n",
    "\n",
    "        while temp is not None:\n",
    "            print(temp.data,end=' ')\n",
    "            temp = temp.next\n",
    "        \n",
    "    def size(self):\n",
    "        temp = self.top\n",
    "        counter = 0\n",
    "        while temp is not None:\n",
    "            temp = temp.next\n",
    "            counter+=1\n",
    "\n",
    "        return counter"
   ]
  },
  {
   "cell_type": "code",
   "execution_count": 67,
   "id": "fa8fe562-22ea-4e1a-acb0-617217228f5c",
   "metadata": {},
   "outputs": [],
   "source": [
    "s = stack()\n",
    "s.push(1)\n",
    "s.push(2)\n",
    "s.push(3)\n",
    "s.push(5)\n",
    "s.push(10)\n",
    "s.push(20)\n",
    "s.push(30)\n",
    "s.push(50)"
   ]
  },
  {
   "cell_type": "code",
   "execution_count": 69,
   "id": "7225d7b1-0d18-4e83-99fe-e4e3db2feffe",
   "metadata": {},
   "outputs": [
    {
     "name": "stdout",
     "output_type": "stream",
     "text": [
      "<__main__.stack object at 0x000002911767EDE0>\n"
     ]
    }
   ],
   "source": [
    "print(s)"
   ]
  },
  {
   "cell_type": "code",
   "execution_count": 71,
   "id": "0a5cf076-8ceb-4233-8168-2dc779bebf64",
   "metadata": {},
   "outputs": [
    {
     "name": "stdout",
     "output_type": "stream",
     "text": [
      "50 30 20 10 5 3 2 1 "
     ]
    }
   ],
   "source": [
    "s.traverse()"
   ]
  },
  {
   "cell_type": "code",
   "execution_count": 73,
   "id": "48b1009a-c83d-41fc-85b5-20393f3064f0",
   "metadata": {},
   "outputs": [
    {
     "data": {
      "text/plain": [
       "50"
      ]
     },
     "execution_count": 73,
     "metadata": {},
     "output_type": "execute_result"
    }
   ],
   "source": [
    "s.pop()"
   ]
  },
  {
   "cell_type": "code",
   "execution_count": 75,
   "id": "001fb1ec-353e-4763-a945-f6a82a183c8d",
   "metadata": {},
   "outputs": [
    {
     "name": "stdout",
     "output_type": "stream",
     "text": [
      "30 20 10 5 3 2 1 "
     ]
    }
   ],
   "source": [
    "s.traverse()"
   ]
  },
  {
   "cell_type": "code",
   "execution_count": 77,
   "id": "21b61329-a7b0-42c9-b205-46897cfbc81a",
   "metadata": {},
   "outputs": [
    {
     "data": {
      "text/plain": [
       "7"
      ]
     },
     "execution_count": 77,
     "metadata": {},
     "output_type": "execute_result"
    }
   ],
   "source": [
    "s.size()"
   ]
  },
  {
   "cell_type": "code",
   "execution_count": 83,
   "id": "9f7b5ae5-d6bd-4da0-a747-55ceda73c42f",
   "metadata": {},
   "outputs": [],
   "source": [
    "def brackets(expr):\n",
    "    s = stack()\n",
    "\n",
    "    for i in expr:\n",
    "        if i == '(':\n",
    "            s.push(i)\n",
    "        elif i == ')':\n",
    "            if s.peek() == '(':\n",
    "                s.pop()\n",
    "        else:\n",
    "            print(\"Imbalenced\")\n",
    "            return\n",
    "\n",
    "    if(s.is_empty()):\n",
    "        print(\"Balenced\")\n",
    "    else:\n",
    "        print(\"Imbalenced\")"
   ]
  },
  {
   "cell_type": "code",
   "execution_count": 100,
   "id": "7222a1e2-a96c-4754-a101-c8956b3ab915",
   "metadata": {},
   "outputs": [
    {
     "ename": "NameError",
     "evalue": "name 'd' is not defined",
     "output_type": "error",
     "traceback": [
      "\u001b[1;31m---------------------------------------------------------------------------\u001b[0m",
      "\u001b[1;31mNameError\u001b[0m                                 Traceback (most recent call last)",
      "Cell \u001b[1;32mIn[100], line 1\u001b[0m\n\u001b[1;32m----> 1\u001b[0m p \u001b[38;5;241m=\u001b[39m (d \u001b[38;5;241m+\u001b[39m c)\n\u001b[0;32m      2\u001b[0m p\u001b[38;5;241m.\u001b[39mbrackets()\n",
      "\u001b[1;31mNameError\u001b[0m: name 'd' is not defined"
     ]
    }
   ],
   "source": [
    "p = (d + c)\n",
    "p.brackets()"
   ]
  },
  {
   "cell_type": "code",
   "execution_count": null,
   "id": "0a2a316e-41d7-4670-a361-2613c2d42deb",
   "metadata": {},
   "outputs": [],
   "source": []
  },
  {
   "cell_type": "code",
   "execution_count": null,
   "id": "88a5468c-2f6b-4113-a293-a65a898b6582",
   "metadata": {},
   "outputs": [],
   "source": []
  }
 ],
 "metadata": {
  "kernelspec": {
   "display_name": "Python 3 (ipykernel)",
   "language": "python",
   "name": "python3"
  },
  "language_info": {
   "codemirror_mode": {
    "name": "ipython",
    "version": 3
   },
   "file_extension": ".py",
   "mimetype": "text/x-python",
   "name": "python",
   "nbconvert_exporter": "python",
   "pygments_lexer": "ipython3",
   "version": "3.12.4"
  }
 },
 "nbformat": 4,
 "nbformat_minor": 5
}
