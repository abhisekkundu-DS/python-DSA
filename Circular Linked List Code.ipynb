{
 "cells": [
  {
   "cell_type": "code",
   "execution_count": 51,
   "id": "f77be049-2fb9-45a9-92c7-3e204d771a51",
   "metadata": {},
   "outputs": [],
   "source": [
    "class Node:\n",
    "    def __init__(self,item=None,next=None):\n",
    "        self.item = item\n",
    "        self.next = next"
   ]
  },
  {
   "cell_type": "code",
   "execution_count": 83,
   "id": "8aed132b-2fa7-4a47-b1e5-bce0ea6c1068",
   "metadata": {},
   "outputs": [],
   "source": [
    "class CLL:\n",
    "    def __init__(self,last = None):\n",
    "        self.last = last\n",
    "    def is_empty(self):\n",
    "        return self.last == None\n",
    "    def insert_at_start(self,data):\n",
    "        n = Node(data)\n",
    "        if self.is_empty():\n",
    "            n.next = n\n",
    "            self.last = n\n",
    "        else:\n",
    "            n.next = self.last.next\n",
    "            self.last.next = n\n",
    "    def insert_at_last(self,data):\n",
    "        n = Node(data)\n",
    "        if self.is_empty():\n",
    "            n.next=n\n",
    "            self.last = n\n",
    "        else:\n",
    "            n.next = self.last.next\n",
    "            self.last.next = n\n",
    "            self.last = n\n",
    "    def search(self,data):\n",
    "        if self.is_empty():\n",
    "            return None\n",
    "        temp =self.last.next\n",
    "        while temp != self.last:\n",
    "            if temp.item == data:\n",
    "                return temp\n",
    "            temp = temp.next\n",
    "        if temp.item == data:\n",
    "            return temp\n",
    "        return None\n",
    "    def insert_after(self,temp,data):\n",
    "        if temp is not None:\n",
    "            n = Node(data,temp.next)\n",
    "            temp.next = n\n",
    "            if temp == self.last:\n",
    "                self.last = n\n",
    "    def print_list(self):\n",
    "        if self.is_empty():\n",
    "            temp = self.last.next\n",
    "            while temp != self.last:\n",
    "                print(temp.item,end=' ')\n",
    "                temp = temp.next\n",
    "            print(temp.item)\n",
    "    def delete_first(self):\n",
    "        if not self.is_empty():\n",
    "            if self.last.next == self.last:\n",
    "                self.last = None\n",
    "            else:\n",
    "                self.last.next = self.last.next.next\n",
    "                \n",
    "            \n",
    "    def delete_last(self):\n",
    "        if not self.is_empty():\n",
    "            if self.last.next == self.last:\n",
    "                self.last= None\n",
    "            else:\n",
    "                temp = self.last.next\n",
    "                while temp.next != self.last:\n",
    "                    temp = temp.next\n",
    "                temp.next = self.last.next\n",
    "                self.last = temp\n",
    "    def delete_item(self):\n",
    "        if not self.is_empty():\n",
    "            if self.last.next == self.last:\n",
    "                if self.last.item == data:\n",
    "                    self.last = None\n",
    "            else:\n",
    "                if self.last.next.item == data:\n",
    "                    self.delete_first()\n",
    "                else:\n",
    "                    temp = self.last.next\n",
    "\n",
    "                    while temp != self.last:\n",
    "                        if temp.next == self.last:\n",
    "                            if self.last.item == data:\n",
    "                                self.delete_last()\n",
    "                            break\n",
    "                        if temp.next.item == data:\n",
    "                            temp.next = temp.next.nxet\n",
    "                            break\n",
    "                        temp = temp.next\n",
    "    def __iter__(self):\n",
    "        if self.last == None:\n",
    "            return CLLIterator(None)\n",
    "        else:\n",
    "            return CLLIterator(self.last.next)\n",
    "\n",
    "class CLLIterator:\n",
    "    def __init__(self,start):\n",
    "        self.current = start\n",
    "        self.start = start\n",
    "        self.count =0\n",
    "    def __iter__(self):\n",
    "        return self\n",
    "    def __next__(self):\n",
    "        if self.current== None:\n",
    "            raise StopIteration\n",
    "        if self.current==self.start and self.count == 1:\n",
    "            raise StopIteration\n",
    "        else:\n",
    "            self.count = 1\n",
    "        data = self.current.item\n",
    "        self.current = self.current.next\n",
    "        \n",
    "        # if self.current==self.start:\n",
    "        #     raise StopIteration\n",
    "        return data\n",
    "                        "
   ]
  },
  {
   "cell_type": "code",
   "execution_count": null,
   "id": "18e815a8-5647-4cf0-b04e-993765636043",
   "metadata": {},
   "outputs": [],
   "source": []
  },
  {
   "cell_type": "code",
   "execution_count": 86,
   "id": "da545a60-a57f-4bc5-8e0b-9b4383422bbe",
   "metadata": {},
   "outputs": [],
   "source": [
    "cll =CLL()\n",
    "cll.insert_at_start(10)\n",
    "cll.insert_at_last(35)\n",
    "cll.insert_at_last(54)\n",
    "cll.insert_after(cll.search(10),50)"
   ]
  },
  {
   "cell_type": "code",
   "execution_count": 88,
   "id": "d9778022-ccc3-43d4-b6b7-484b02348363",
   "metadata": {},
   "outputs": [
    {
     "data": {
      "text/plain": [
       "<__main__.CLL at 0x21644b05130>"
      ]
     },
     "execution_count": 88,
     "metadata": {},
     "output_type": "execute_result"
    }
   ],
   "source": [
    "cll"
   ]
  },
  {
   "cell_type": "code",
   "execution_count": 92,
   "id": "da29b9ab-b6df-438c-8a0d-af1801063b87",
   "metadata": {},
   "outputs": [
    {
     "name": "stdout",
     "output_type": "stream",
     "text": [
      "10 50 35 54 \n"
     ]
    }
   ],
   "source": [
    "for x in cll:\n",
    "    print(x,end=' ')\n",
    "print()"
   ]
  },
  {
   "cell_type": "code",
   "execution_count": null,
   "id": "cba64f10-58c5-4821-ae99-ed76b57a3eba",
   "metadata": {},
   "outputs": [],
   "source": []
  },
  {
   "cell_type": "code",
   "execution_count": null,
   "id": "fd9e7644-4f48-4d0b-9ea7-364f57641f3a",
   "metadata": {},
   "outputs": [],
   "source": []
  }
 ],
 "metadata": {
  "kernelspec": {
   "display_name": "Python 3 (ipykernel)",
   "language": "python",
   "name": "python3"
  },
  "language_info": {
   "codemirror_mode": {
    "name": "ipython",
    "version": 3
   },
   "file_extension": ".py",
   "mimetype": "text/x-python",
   "name": "python",
   "nbconvert_exporter": "python",
   "pygments_lexer": "ipython3",
   "version": "3.12.4"
  }
 },
 "nbformat": 4,
 "nbformat_minor": 5
}
