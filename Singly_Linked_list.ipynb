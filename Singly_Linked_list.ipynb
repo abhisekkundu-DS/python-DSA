{
 "cells": [
  {
   "cell_type": "code",
   "execution_count": 5,
   "id": "ed19d903-a679-4a1c-b3e3-1a8f34c5bd6f",
   "metadata": {},
   "outputs": [],
   "source": [
    "#singly Linked Lise\"\"\"\"\"\"\n",
    "class Node:\n",
    "    def __init__(self,item = None,next = None):\n",
    "        self.item = item\n",
    "        self.next = next"
   ]
  },
  {
   "cell_type": "code",
   "execution_count": 35,
   "id": "f3f49bc3-ca32-4cb6-88fc-83f8bd9aebdf",
   "metadata": {},
   "outputs": [],
   "source": [
    "class SLL:\n",
    "    def __init__(self,start = None):\n",
    "        self.start = start\n",
    "    def is_empty(self):\n",
    "        return self.start == None\n",
    "    def insert_at_start(self,data):\n",
    "        n = Node(data,self.start)\n",
    "        self.start = n\n",
    "    def insert_at_last(self,data):\n",
    "        n = Node(data)\n",
    "        if not self.is_empty():\n",
    "            temp = self.start\n",
    "            while temp.next is  not None:\n",
    "                temp = temp.next\n",
    "            temp.next = n\n",
    "        else:\n",
    "            self.start = n\n",
    "#in slass SLL define a method search() to find the node with specified element value\n",
    "    def search(self,data):\n",
    "        temp = self.start\n",
    "        while temp is not None:\n",
    "            if temp.item == data:\n",
    "                return temp\n",
    "            temp = temp.next\n",
    "        return None\n",
    "#in class SLL define a method insert_after() to insert a new node after a given node\n",
    "    def insert_after(self,temp,data):\n",
    "        if temp is not None:\n",
    "            n = Node(data,temp.next)\n",
    "            temp.next = n\n",
    "# in class SLL define a method print_list() to print all member of the list\n",
    "    def print_list(self):\n",
    "        temp = self.start\n",
    "        while temp is not None:\n",
    "            print(temp.item,end=' ')\n",
    "            temp = temp.next\n",
    "# in class SLL define a method delete_first() to delete first element of this list \n",
    "    def delete_first(self):\n",
    "        if self.start is None:\n",
    "            self.start = self.start.next\n",
    "#in class SLL define a methode delete_last() to delete last element of this list\n",
    "    def delete_last(self):\n",
    "        if self.start is None:\n",
    "            pass\n",
    "        elif self.start.next is None:\n",
    "            self.start = None\n",
    "        else:\n",
    "            temp = self.start\n",
    "            while temp.next.next is not None:\n",
    "                temp = temp.next\n",
    "            temp.next = None\n",
    "#in slass SLL define a method delete_item() to delete an element of this list \n",
    "    def delete_item(self,data):\n",
    "        if self.start is None: #if start node is none then pass\n",
    "            pass\n",
    "        elif self.start.next is None:  #if linked list only one element\n",
    "            if self.start.item == data:  # aecess this data \n",
    "                self.start = None  #delete this to convert as none\n",
    "        else:\n",
    "            temp = self.start   #if first item is not none\n",
    "            if temp.item == data: # search this data and this node called as temp and match this data same as temp data \n",
    "                self.start = temp.next   # then next of this start item linked as next node\n",
    "            else:\n",
    "                while temp.next is not None:      \n",
    "                    if temp.next.item == data:\n",
    "                        temp.next = temp.next.next\n",
    "                        break\n",
    "                    temp = temp.next\n",
    "\n",
    "    def __iter__(self):\n",
    "        return SLLIterator(self.start)"
   ]
  },
  {
   "cell_type": "code",
   "execution_count": 47,
   "id": "b3d6cc0f-ffb8-47bf-99d0-24b7444f308b",
   "metadata": {},
   "outputs": [],
   "source": [
    "class SLLIterator:\n",
    "    def __init__(self,start):\n",
    "        self.current = start\n",
    "    def __iter__(Self):\n",
    "        return self\n",
    "    def __next__(self):\n",
    "        if not self.current:\n",
    "            raise StopIteration\n",
    "        data = self.current.item\n",
    "        self.current = self.current.next\n",
    "        return data"
   ]
  },
  {
   "cell_type": "code",
   "execution_count": 49,
   "id": "68f11d9f-bda4-49af-bad6-ac0b20b88619",
   "metadata": {},
   "outputs": [
    {
     "name": "stdout",
     "output_type": "stream",
     "text": [
      "10 20 25 30 "
     ]
    }
   ],
   "source": [
    "mylist=SLL()\n",
    "mylist.insert_at_start(20)\n",
    "mylist.insert_at_start(10)\n",
    "mylist.insert_at_last(30)\n",
    "mylist.insert_after(mylist.search(20),25)\n",
    "mylist.print_list()"
   ]
  },
  {
   "cell_type": "code",
   "execution_count": 51,
   "id": "c87d62cf-d65e-44eb-8240-4078d62bf115",
   "metadata": {},
   "outputs": [
    {
     "name": "stdout",
     "output_type": "stream",
     "text": [
      "10 20 25 30 "
     ]
    }
   ],
   "source": [
    "for x in mylist:\n",
    "    print(x,end=\" \")"
   ]
  },
  {
   "cell_type": "code",
   "execution_count": 53,
   "id": "4e3c263d-5d68-4b88-8d01-b8c9a4ac0e24",
   "metadata": {},
   "outputs": [
    {
     "name": "stdout",
     "output_type": "stream",
     "text": [
      "10 25 "
     ]
    }
   ],
   "source": [
    "mylist.delete_item(20)\n",
    "mylist.delete_item(30)\n",
    "mylist.print_list()"
   ]
  },
  {
   "cell_type": "code",
   "execution_count": null,
   "id": "d725ff07-5ed8-404c-8dfe-d090b997b1fa",
   "metadata": {},
   "outputs": [],
   "source": [
    "for"
   ]
  }
 ],
 "metadata": {
  "kernelspec": {
   "display_name": "Python 3 (ipykernel)",
   "language": "python",
   "name": "python3"
  },
  "language_info": {
   "codemirror_mode": {
    "name": "ipython",
    "version": 3
   },
   "file_extension": ".py",
   "mimetype": "text/x-python",
   "name": "python",
   "nbconvert_exporter": "python",
   "pygments_lexer": "ipython3",
   "version": "3.12.4"
  }
 },
 "nbformat": 4,
 "nbformat_minor": 5
}
