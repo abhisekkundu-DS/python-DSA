{
 "cells": [
  {
   "cell_type": "code",
   "execution_count": 33,
   "id": "618b9f73-e690-480e-b9d5-88658356fe37",
   "metadata": {},
   "outputs": [],
   "source": [
    "class Node:\n",
    "    def __init__(self,value):\n",
    "        self.data = value\n",
    "        self.next = None\n",
    "    "
   ]
  },
  {
   "cell_type": "code",
   "execution_count": 3,
   "id": "16b143c8-0982-45fc-8dd1-5f6da22cd132",
   "metadata": {},
   "outputs": [
    {
     "ename": "NameError",
     "evalue": "name 'none' is not defined",
     "output_type": "error",
     "traceback": [
      "\u001b[1;31m---------------------------------------------------------------------------\u001b[0m",
      "\u001b[1;31mNameError\u001b[0m                                 Traceback (most recent call last)",
      "Cell \u001b[1;32mIn[3], line 1\u001b[0m\n\u001b[1;32m----> 1\u001b[0m a \u001b[38;5;241m=\u001b[39m Node(\u001b[38;5;241m1\u001b[39m)\n\u001b[0;32m      2\u001b[0m b \u001b[38;5;241m=\u001b[39m Node(\u001b[38;5;241m2\u001b[39m)\n",
      "Cell \u001b[1;32mIn[1], line 4\u001b[0m, in \u001b[0;36mNode.__init__\u001b[1;34m(self, value)\u001b[0m\n\u001b[0;32m      2\u001b[0m \u001b[38;5;28;01mdef\u001b[39;00m \u001b[38;5;21m__init__\u001b[39m(\u001b[38;5;28mself\u001b[39m,value):\n\u001b[0;32m      3\u001b[0m     \u001b[38;5;28mself\u001b[39m\u001b[38;5;241m.\u001b[39mdata \u001b[38;5;241m=\u001b[39m value\n\u001b[1;32m----> 4\u001b[0m     \u001b[38;5;28mself\u001b[39m\u001b[38;5;241m.\u001b[39mnext \u001b[38;5;241m=\u001b[39m none\n",
      "\u001b[1;31mNameError\u001b[0m: name 'none' is not defined"
     ]
    }
   ],
   "source": [
    "a = Node(1)\n",
    "b = Node(2)"
   ]
  },
  {
   "cell_type": "code",
   "execution_count": 186,
   "id": "66d4b1be-9cc8-4888-aa37-fad20bdf883d",
   "metadata": {},
   "outputs": [
    {
     "ename": "IndentationError",
     "evalue": "unexpected indent (402182104.py, line 105)",
     "output_type": "error",
     "traceback": [
      "\u001b[1;36m  Cell \u001b[1;32mIn[186], line 105\u001b[1;36m\u001b[0m\n\u001b[1;33m    pos = pos + 1\u001b[0m\n\u001b[1;37m    ^\u001b[0m\n\u001b[1;31mIndentationError\u001b[0m\u001b[1;31m:\u001b[0m unexpected indent\n"
     ]
    }
   ],
   "source": [
    "class LinkedList:\n",
    "    def __init__(self):\n",
    "        #Empty Linked List\n",
    "        self.head = None\n",
    "        #no of nodes in the LL\n",
    "        self.n = 0\n",
    "\n",
    "    def __len__(self):\n",
    "        return self.n\n",
    "\n",
    "    def insert_head(self,value):\n",
    "        #new node\n",
    "        new_node = Node(value)\n",
    "\n",
    "        #create connection\n",
    "        new_node.next = self.head\n",
    "\n",
    "        #reassign head\n",
    "        self.head = new_node\n",
    "\n",
    "        #increment n\n",
    "        self.n = self.n + 1\n",
    "\n",
    "\n",
    "    def append(self,value):\n",
    "        new_node = Node(value)\n",
    "\n",
    "        if self.head == None:\n",
    "            #empty\n",
    "            self.head = new_node\n",
    "            self.n = self.n + 1\n",
    "            return\n",
    "\n",
    "        curr = self.head\n",
    "        while curr.next != None:\n",
    "            curr = curr.next\n",
    "        #you are at last node\n",
    "        curr.next = new_node\n",
    "        self.n = self. n + 1\n",
    "\n",
    "    def __str__(self):\n",
    "\n",
    "        curr = self.head\n",
    "        result = \" \"\n",
    "        while curr != None:\n",
    "            result = result + str(curr.data) + '->'\n",
    "            curr = curr.next\n",
    "\n",
    "        return result[:-2]\n",
    "\n",
    "\n",
    "    def insert_after(self,after,value):\n",
    "\n",
    "        new_node = Node(value)\n",
    "        curr = self.head\n",
    "        while curr != None:\n",
    "            if curr.data == after:\n",
    "                break\n",
    "            curr = curr.next\n",
    "        if curr != None:\n",
    "            new_node.next = curr.next\n",
    "            curr.next = new_node\n",
    "            self.n = self.n + 1\n",
    "        else:\n",
    "            return \"Item is Not Found\"\n",
    "\n",
    "    \n",
    "        \n",
    "\n",
    "    def  delete_head(self):\n",
    "        if self.head == None:\n",
    "        #empty\n",
    "            return \"Empty LL\"\n",
    "        self.head = self.head.next\n",
    "        self.n = self.n-1\n",
    "\n",
    "\n",
    "    def pop(self):\n",
    "\n",
    "        if self.head == None:\n",
    "        #empty\n",
    "            return 'Empty List'\n",
    "\n",
    "        curr = self.head\n",
    "        # if linked list has only one item\n",
    "        if curr.next == None:\n",
    "            #delete from head\n",
    "            return self.delete_head()\n",
    "\n",
    "        while curr.next.next != None:\n",
    "            curr = curr.next\n",
    "            #curr -> 2nd last nopde\n",
    "        curr.next = None\n",
    "        self.n = self.n-1\n",
    "\n",
    "\n",
    "    def search(self,item):\n",
    "        curr = self.head\n",
    "        pos = 0\n",
    "\n",
    "        while curr != None:\n",
    "             if curr.data == item:\n",
    "                return pos\n",
    "             curr = curr.next\n",
    "              pos = pos + 1\n",
    "\n",
    "        return 'Not Found'\n",
    "            \n",
    "        \n",
    "    "
   ]
  },
  {
   "cell_type": "code",
   "execution_count": 184,
   "id": "1e6013f0-5ad2-4c7f-bc35-89b85511eb3e",
   "metadata": {},
   "outputs": [],
   "source": [
    "L = LinkedList()"
   ]
  },
  {
   "cell_type": "code",
   "execution_count": 153,
   "id": "da82dea0-8281-4603-b9f9-8f68a35f2902",
   "metadata": {},
   "outputs": [],
   "source": [
    "#L.insert_head(1)\n",
    "L.append(2)\n",
    "L.append(3)\n",
    "L.append(10)\n",
    "L.append(18)\n",
    "L.append(22)\n",
    "L.append(33)\n",
    "L.append(45)\n",
    "L.append(67)"
   ]
  },
  {
   "cell_type": "code",
   "execution_count": 155,
   "id": "8b2de0cc-2124-4dc7-abcd-33eb309bb5bf",
   "metadata": {},
   "outputs": [
    {
     "name": "stdout",
     "output_type": "stream",
     "text": [
      " 2->3->10->18->22->33->45->67\n"
     ]
    }
   ],
   "source": [
    "print(L)"
   ]
  },
  {
   "cell_type": "code",
   "execution_count": 157,
   "id": "220ecaa2-8681-4e6b-8289-859d03230617",
   "metadata": {},
   "outputs": [
    {
     "data": {
      "text/plain": [
       "'Item is Not Found'"
      ]
     },
     "execution_count": 157,
     "metadata": {},
     "output_type": "execute_result"
    }
   ],
   "source": [
    "L.insert_after(5,3)"
   ]
  },
  {
   "cell_type": "code",
   "execution_count": 159,
   "id": "ffeea6e1-b7f8-40a4-9ef6-35574e1a562c",
   "metadata": {},
   "outputs": [],
   "source": [
    "L.insert_after(10,15)"
   ]
  },
  {
   "cell_type": "code",
   "execution_count": 161,
   "id": "b721416b-4527-4638-855c-a919d90d5a4b",
   "metadata": {},
   "outputs": [
    {
     "name": "stdout",
     "output_type": "stream",
     "text": [
      " 2->3->10->15->18->22->33->45->67\n"
     ]
    }
   ],
   "source": [
    "print(L)"
   ]
  },
  {
   "cell_type": "code",
   "execution_count": 163,
   "id": "3d44ac7e-3523-497d-b574-ca1b76d6b3fd",
   "metadata": {},
   "outputs": [],
   "source": [
    "L.delete_head()"
   ]
  },
  {
   "cell_type": "code",
   "execution_count": 165,
   "id": "ff7a2720-6613-4c04-bbf3-583ecc6dfed7",
   "metadata": {},
   "outputs": [
    {
     "name": "stdout",
     "output_type": "stream",
     "text": [
      " 3->10->15->18->22->33->45->67\n"
     ]
    }
   ],
   "source": [
    "print(L)"
   ]
  },
  {
   "cell_type": "code",
   "execution_count": 167,
   "id": "915ca85e-5603-4db3-8ea5-fd9dd35852e8",
   "metadata": {},
   "outputs": [],
   "source": [
    "L.pop()"
   ]
  },
  {
   "cell_type": "code",
   "execution_count": 169,
   "id": "53cc8f56-51a9-41a1-bf8d-cef6269d4641",
   "metadata": {},
   "outputs": [
    {
     "name": "stdout",
     "output_type": "stream",
     "text": [
      " 3->10->15->18->22->33->45\n"
     ]
    }
   ],
   "source": [
    "print(L)"
   ]
  },
  {
   "cell_type": "code",
   "execution_count": null,
   "id": "38b6b150-ea69-4d7d-9670-a7c871021567",
   "metadata": {},
   "outputs": [],
   "source": []
  }
 ],
 "metadata": {
  "kernelspec": {
   "display_name": "Python 3 (ipykernel)",
   "language": "python",
   "name": "python3"
  },
  "language_info": {
   "codemirror_mode": {
    "name": "ipython",
    "version": 3
   },
   "file_extension": ".py",
   "mimetype": "text/x-python",
   "name": "python",
   "nbconvert_exporter": "python",
   "pygments_lexer": "ipython3",
   "version": "3.12.4"
  }
 },
 "nbformat": 4,
 "nbformat_minor": 5
}
